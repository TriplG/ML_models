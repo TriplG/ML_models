{
 "cells": [
  {
   "cell_type": "code",
   "execution_count": 2,
   "metadata": {},
   "outputs": [],
   "source": [
    "import pandas as pd\n",
    "import numpy as np\n",
    "import sklearn\n",
    "import math\n",
    "\n",
    "from sklearn.model_selection import train_test_split\n",
    "from sklearn.decomposition import PCA\n",
    "\n",
    "from sklearn.metrics import classification_report, accuracy_score"
   ]
  },
  {
   "cell_type": "code",
   "execution_count": 3,
   "metadata": {},
   "outputs": [],
   "source": [
    "# Считывание csv-файлов\n",
    "train = pd.read_csv('csv/train.csv')\n",
    "test = pd.read_csv('csv/test.csv')\n",
    "gender_submission = pd.read_csv('csv/gender_submission.csv')\n",
    "\n",
    "# Объеденение датасетов\n",
    "test_merge = pd.merge(test, gender_submission, how='left', on='PassengerId')\n",
    "df = pd.concat([test_merge, train], ignore_index=True)\n",
    "\n",
    "# Обработка Pclass\n",
    "df['Pclass'] = df['Pclass'].apply(lambda x: 3 - x + 1)\n",
    "\n",
    "# Обработка Sex\n",
    "df['sex_rank'] = df['Sex'].apply(lambda x: 0 if x == 'male' else 1)\n",
    "\n",
    "# Обработка Cabin\n",
    "df['Cabin_class'] = df['Cabin'].apply(lambda x: np.nan if type(x) != str and np.isnan(x) else x[0])\n",
    "df.iloc[[479, 1247], 10] = 'S'\n",
    "\n",
    "# Обработка Embarked\n",
    "df['embarked_s'] = df['Embarked'].apply(lambda x: 1 if x == 'S' else 0)\n",
    "df['embarked_c'] = df['Embarked'].apply(lambda x: 1 if x == 'C' else 0)\n",
    "df['embarked_q'] = df['Embarked'].apply(lambda x: 1 if x == 'Q' else 0)\n",
    "\n",
    "# Итоговый датасет\n",
    "df = df[['Pclass', 'sex_rank', 'Age', 'SibSp', 'Parch', 'Fare', 'embarked_s', 'embarked_c', 'embarked_q', 'Survived']]\n",
    "\n",
    "# Обработка пропусков в Age и Fare \n",
    "age_median = df['Age'].median()\n",
    "df['Age'] = df['Age'].apply(lambda x: age_median if np.isnan(x) else x)\n",
    "\n",
    "# Удаление дублей\n",
    "df.drop_duplicates(inplace=True, ignore_index=True)\n",
    "df.iloc[145, 5] = df[df['Pclass'] == 1]['Fare'].mean()"
   ]
  },
  {
   "cell_type": "markdown",
   "metadata": {},
   "source": [
    "### Краткий гайд по методу"
   ]
  },
  {
   "cell_type": "code",
   "execution_count": null,
   "metadata": {},
   "outputs": [],
   "source": []
  },
  {
   "cell_type": "markdown",
   "metadata": {},
   "source": [
    "### PCA in Sklearn"
   ]
  },
  {
   "cell_type": "code",
   "execution_count": 4,
   "metadata": {},
   "outputs": [],
   "source": [
    "x, y = df.iloc[:, :-1], df.iloc[:, -1]"
   ]
  },
  {
   "cell_type": "code",
   "execution_count": 9,
   "metadata": {},
   "outputs": [
    {
     "data": {
      "text/plain": [
       "1100"
      ]
     },
     "execution_count": 9,
     "metadata": {},
     "output_type": "execute_result"
    }
   ],
   "source": [
    "pca = PCA(n_components=2)\n",
    "len(pca.fit_transform(x))"
   ]
  },
  {
   "cell_type": "code",
   "execution_count": 7,
   "metadata": {},
   "outputs": [
    {
     "name": "stdout",
     "output_type": "stream",
     "text": [
      "[0.94188914 0.05725701]\n"
     ]
    }
   ],
   "source": [
    "print(pca.explained_variance_ratio_)"
   ]
  },
  {
   "cell_type": "code",
   "execution_count": null,
   "metadata": {},
   "outputs": [],
   "source": []
  },
  {
   "cell_type": "code",
   "execution_count": null,
   "metadata": {},
   "outputs": [],
   "source": []
  }
 ],
 "metadata": {
  "kernelspec": {
   "display_name": "Python 3",
   "language": "python",
   "name": "python3"
  },
  "language_info": {
   "codemirror_mode": {
    "name": "ipython",
    "version": 3
   },
   "file_extension": ".py",
   "mimetype": "text/x-python",
   "name": "python",
   "nbconvert_exporter": "python",
   "pygments_lexer": "ipython3",
   "version": "3.12.1"
  }
 },
 "nbformat": 4,
 "nbformat_minor": 2
}
