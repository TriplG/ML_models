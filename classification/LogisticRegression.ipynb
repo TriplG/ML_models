{
 "cells": [
  {
   "cell_type": "code",
   "execution_count": 3,
   "metadata": {},
   "outputs": [],
   "source": [
    "import pandas as pd\n",
    "import numpy as np\n",
    "import sklearn\n",
    "import math\n",
    "\n",
    "from sklearn.model_selection import train_test_split\n",
    "\n",
    "from sklearn.linear_model import LogisticRegression\n",
    "from sklearn.metrics import classification_report, accuracy_score"
   ]
  },
  {
   "cell_type": "code",
   "execution_count": 8,
   "metadata": {},
   "outputs": [],
   "source": [
    "# Считывание csv-файлов\n",
    "train = pd.read_csv('../csv/train.csv')\n",
    "test = pd.read_csv('../csv/test.csv')\n",
    "gender_submission = pd.read_csv('../csv/gender_submission.csv')\n",
    "\n",
    "# Объеденение датасетов\n",
    "test_merge = pd.merge(test, gender_submission, how='left', on='PassengerId')\n",
    "df = pd.concat([test_merge, train], ignore_index=True)\n",
    "\n",
    "# Обработка Pclass\n",
    "df['Pclass'] = df['Pclass'].apply(lambda x: 3 - x + 1)\n",
    "\n",
    "# Обработка Sex\n",
    "df['sex_rank'] = df['Sex'].apply(lambda x: 0 if x == 'male' else 1)\n",
    "\n",
    "# Обработка Cabin\n",
    "df['Cabin_class'] = df['Cabin'].apply(lambda x: np.nan if type(x) != str and np.isnan(x) else x[0])\n",
    "df.iloc[[479, 1247], 10] = 'S'\n",
    "\n",
    "# Обработка Embarked\n",
    "df['embarked_s'] = df['Embarked'].apply(lambda x: 1 if x == 'S' else 0)\n",
    "df['embarked_c'] = df['Embarked'].apply(lambda x: 1 if x == 'C' else 0)\n",
    "df['embarked_q'] = df['Embarked'].apply(lambda x: 1 if x == 'Q' else 0)\n",
    "\n",
    "# Итоговый датасет\n",
    "df = df[['Pclass', 'sex_rank', 'Age', 'SibSp', 'Parch', 'Fare', 'embarked_s', 'embarked_c', 'embarked_q', 'Survived']]\n",
    "\n",
    "# Обработка пропусков в Age и Fare \n",
    "age_median = df['Age'].median()\n",
    "df['Age'] = df['Age'].apply(lambda x: age_median if np.isnan(x) else x)\n",
    "\n",
    "# Удаление дублей\n",
    "df.drop_duplicates(inplace=True, ignore_index=True)\n",
    "df.iloc[145, 5] = df[df['Pclass'] == 1]['Fare'].mean()"
   ]
  },
  {
   "cell_type": "markdown",
   "metadata": {},
   "source": [
    "### Краткий гайд по методу"
   ]
  },
  {
   "cell_type": "markdown",
   "metadata": {},
   "source": []
  },
  {
   "cell_type": "markdown",
   "metadata": {},
   "source": [
    "### Logistic Regression in Sklearn"
   ]
  },
  {
   "cell_type": "code",
   "execution_count": 9,
   "metadata": {},
   "outputs": [],
   "source": [
    "X_train, X_test, y_train, y_test = train_test_split(df.iloc[:, :-1], df.iloc[:, -1], train_size=0.80,\n",
    "                                                    test_size=0.20, stratify=df.iloc[:, -1], random_state=123)"
   ]
  },
  {
   "cell_type": "code",
   "execution_count": 11,
   "metadata": {},
   "outputs": [
    {
     "name": "stderr",
     "output_type": "stream",
     "text": [
      "c:\\Users\\Александр Алейник\\AppData\\Local\\Programs\\Python\\Python312\\Lib\\site-packages\\sklearn\\linear_model\\_logistic.py:469: ConvergenceWarning: lbfgs failed to converge (status=1):\n",
      "STOP: TOTAL NO. of ITERATIONS REACHED LIMIT.\n",
      "\n",
      "Increase the number of iterations (max_iter) or scale the data as shown in:\n",
      "    https://scikit-learn.org/stable/modules/preprocessing.html\n",
      "Please also refer to the documentation for alternative solver options:\n",
      "    https://scikit-learn.org/stable/modules/linear_model.html#logistic-regression\n",
      "  n_iter_i = _check_optimize_result(\n"
     ]
    },
    {
     "data": {
      "text/plain": [
       "0.8045454545454546"
      ]
     },
     "execution_count": 11,
     "metadata": {},
     "output_type": "execute_result"
    }
   ],
   "source": [
    "log_reg = LogisticRegression()\n",
    "log_reg.fit(X_train, y_train)\n",
    "y_pred = log_reg.predict(X_test)\n",
    "\n",
    "sklearn.metrics.accuracy_score(y_pred, y_test)"
   ]
  },
  {
   "cell_type": "markdown",
   "metadata": {},
   "source": [
    "### Полезные ссылки для логистической регресси"
   ]
  },
  {
   "cell_type": "markdown",
   "metadata": {},
   "source": [
    "Видеоролики на YouTube:\n",
    "- https://www.youtube.com/watch?v=jOtpCFJA4Yg\n",
    "- https://www.youtube.com/watch?v=9BoVCdedvW8&t=28s\n",
    "- https://www.youtube.com/watch?v=1vklt6IHeJI&t=351s\n",
    "- https://www.youtube.com/watch?v=FssgYm7FYM8\n",
    "- https://www.youtube.com/watch?v=8sp5aqyH6Oc&t=568s\n",
    "- https://www.youtube.com/watch?v=9q7Am6ZMrvs\n",
    "- https://www.youtube.com/watch?v=TicYEZFzZTg&t=59s\n",
    "- https://www.youtube.com/watch?v=8sp5aqyH6Oc&t=568s"
   ]
  },
  {
   "cell_type": "code",
   "execution_count": null,
   "metadata": {},
   "outputs": [],
   "source": []
  }
 ],
 "metadata": {
  "kernelspec": {
   "display_name": "Python 3",
   "language": "python",
   "name": "python3"
  },
  "language_info": {
   "codemirror_mode": {
    "name": "ipython",
    "version": 3
   },
   "file_extension": ".py",
   "mimetype": "text/x-python",
   "name": "python",
   "nbconvert_exporter": "python",
   "pygments_lexer": "ipython3",
   "version": "3.12.1"
  }
 },
 "nbformat": 4,
 "nbformat_minor": 2
}
